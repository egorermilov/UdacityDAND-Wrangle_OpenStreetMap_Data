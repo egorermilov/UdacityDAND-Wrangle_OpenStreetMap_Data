{
 "cells": [
  {
   "cell_type": "markdown",
   "metadata": {},
   "source": [
    "# BOSTON"
   ]
  },
  {
   "cell_type": "markdown",
   "metadata": {},
   "source": [
    "I have chosen this city because I'm going to travel there next summer. \n",
    "I downloaded the osm-file here:\n",
    "https://mapzen.com/data/metro-extracts/metro/boston_massachusetts/"
   ]
  },
  {
   "cell_type": "markdown",
   "metadata": {},
   "source": [
    "### Import libraries"
   ]
  },
  {
   "cell_type": "code",
   "execution_count": 10,
   "metadata": {
    "collapsed": false
   },
   "outputs": [],
   "source": [
    "import xml.etree.cElementTree as ET\n",
    "from collections import defaultdict\n",
    "import pprint\n",
    "import re\n",
    "import codecs\n",
    "import json\n",
    "import schema\n",
    "import csv\n",
    "import cerberus\n",
    "import pandas as pd\n",
    "import sqlalchemy\n",
    "import os"
   ]
  },
  {
   "cell_type": "markdown",
   "metadata": {},
   "source": [
    "### Filename"
   ]
  },
  {
   "cell_type": "code",
   "execution_count": 3,
   "metadata": {
    "collapsed": true
   },
   "outputs": [],
   "source": [
    "dataset=\"boston_massachusetts.osm\""
   ]
  },
  {
   "cell_type": "markdown",
   "metadata": {},
   "source": [
    "## Auditing and Cleaning the Dataset"
   ]
  },
  {
   "cell_type": "markdown",
   "metadata": {},
   "source": [
    "### Counting Tags"
   ]
  },
  {
   "cell_type": "markdown",
   "metadata": {},
   "source": [
    "We parse the map file to find out what tags are there and how many"
   ]
  },
  {
   "cell_type": "code",
   "execution_count": 4,
   "metadata": {
    "collapsed": true
   },
   "outputs": [],
   "source": [
    "def count_tags(dataset):\n",
    "    tags={}\n",
    "    for event,element in ET.iterparse(dataset):\n",
    "        if element.tag in tags:\n",
    "            tags[element.tag]+=1\n",
    "        else:\n",
    "            tags[element.tag]=1\n",
    "    return tags"
   ]
  },
  {
   "cell_type": "code",
   "execution_count": 5,
   "metadata": {
    "collapsed": false
   },
   "outputs": [
    {
     "data": {
      "text/plain": [
       "{'bounds': 1,\n",
       " 'member': 10805,\n",
       " 'nd': 2321860,\n",
       " 'node': 1930240,\n",
       " 'osm': 1,\n",
       " 'relation': 1248,\n",
       " 'tag': 896347,\n",
       " 'way': 308723}"
      ]
     },
     "execution_count": 5,
     "metadata": {},
     "output_type": "execute_result"
    }
   ],
   "source": [
    "count_tags(dataset)"
   ]
  },
  {
   "cell_type": "markdown",
   "metadata": {},
   "source": [
    "### Key Types"
   ]
  },
  {
   "cell_type": "markdown",
   "metadata": {},
   "source": [
    "Here we check the \"k\" value for each tag and see if there are any potential problems"
   ]
  },
  {
   "cell_type": "code",
   "execution_count": 6,
   "metadata": {
    "collapsed": true
   },
   "outputs": [],
   "source": [
    "lower = re.compile(r'^([a-z]|_)*$')\n",
    "lower_colon = re.compile(r'^([a-z]|_)*:([a-z]|_)*$')\n",
    "problemchars = re.compile(r'[=\\+/&<>;\\'\"\\?%#$@\\,\\. \\t\\r\\n]')\n",
    "\n",
    "\n",
    "def key_type(element, keys):\n",
    "    if element.tag == \"tag\":\n",
    "        if lower.match(element.attrib['k']):\n",
    "            keys['lower'] += 1\n",
    "        elif lower_colon.match(element.attrib['k']):\n",
    "            keys['lower_colon'] += 1\n",
    "        elif problemchars.match(element.attrib['k']):\n",
    "            keys['problemchars'] += 1\n",
    "        else:\n",
    "            keys['other'] += 1\n",
    "        \n",
    "    return keys\n",
    "\n",
    "\n",
    "\n",
    "def process_map(filename):\n",
    "    keys = {\"lower\": 0, \"lower_colon\": 0, \"problemchars\": 0, \"other\": 0}\n",
    "    for _, element in ET.iterparse(filename):\n",
    "        keys = key_type(element, keys)\n",
    "\n",
    "    return keys\n"
   ]
  },
  {
   "cell_type": "code",
   "execution_count": 7,
   "metadata": {
    "collapsed": false
   },
   "outputs": [
    {
     "data": {
      "text/plain": [
       "{'lower': 787959, 'lower_colon': 68370, 'other': 40018, 'problemchars': 0}"
      ]
     },
     "execution_count": 7,
     "metadata": {},
     "output_type": "execute_result"
    }
   ],
   "source": [
    "process_map(dataset)"
   ]
  },
  {
   "cell_type": "markdown",
   "metadata": {},
   "source": [
    "### Exploring Users"
   ]
  },
  {
   "cell_type": "markdown",
   "metadata": {},
   "source": [
    "Here we find out how many unique users have contributed to the map"
   ]
  },
  {
   "cell_type": "code",
   "execution_count": 8,
   "metadata": {
    "collapsed": true
   },
   "outputs": [],
   "source": [
    "def get_user(element):\n",
    "       \n",
    "    return element.get(\"uid\")\n",
    "    \n",
    "def process_users(dataset):\n",
    "    users = []\n",
    "    for _, element in ET.iterparse(dataset):\n",
    "        if element.tag==\"node\" or element.tag==\"way\" or element.tag==\"relation\":\n",
    "            val=get_user(element)\n",
    "            if val in users:\n",
    "                continue\n",
    "            else:\n",
    "                users.append(val)\n",
    "   \n",
    "    return users\n",
    "\n"
   ]
  },
  {
   "cell_type": "code",
   "execution_count": 9,
   "metadata": {
    "collapsed": false,
    "scrolled": true
   },
   "outputs": [
    {
     "data": {
      "text/plain": [
       "['326503', '8609', '14293', '3983283', '443130', '165061', '7906']"
      ]
     },
     "execution_count": 9,
     "metadata": {},
     "output_type": "execute_result"
    }
   ],
   "source": [
    "users=process_users(dataset)\n",
    "users[0:7]"
   ]
  },
  {
   "cell_type": "markdown",
   "metadata": {},
   "source": [
    "### Improving Street Names"
   ]
  },
  {
   "cell_type": "markdown",
   "metadata": {},
   "source": [
    "The main problem in the map is the street types. They are often just abbreviations, uppercase words or lowercase word. We audit the OSM FILE and change the variable 'mapping' to reflect the changes needed to fix the unexpected street types to the appropriate ones in the expected list."
   ]
  },
  {
   "cell_type": "code",
   "execution_count": 11,
   "metadata": {
    "collapsed": false
   },
   "outputs": [],
   "source": [
    "street_type_re = re.compile(r'\\b\\S+\\.?$', re.IGNORECASE)\n",
    "\n",
    "expected = [\"Court\", \"Place\", \"Square\", \"Lane\",\"Trail\", \"Parkway\", \"Commons\",\"Way\",\n",
    "            \"Alley\",\"Steeg\",\"Avenue\",\"Laan\",\"Boulevard\",\"Kringweg\",\"Close\",\"Crescent\",\"Singel\",\n",
    "            \"Drive\",\"Rylaan\",\"Place\",\"Oord\",\"Road\",\"Weg\",\"Street\",\"Straat\"]\n",
    "\n",
    "\n",
    "mapping = { \"St\": \"Street\",\n",
    "           \"ST\": \"Street\",\n",
    "            \"st\": \"Street\",\n",
    "           \"st.\": \"Street\",\n",
    "           \"st,\": \"Street\",\n",
    "            \"street\":\"Street\",\n",
    "           'Sq.': 'Square',\n",
    "            \"Ave\": \"Avenue\",\n",
    "            \"ave\": \"Avenue\",\n",
    "           'Ave.': 'Avenue',\n",
    "            \"Rd.\": \"Road\",\n",
    "           \"Rd\": \"Road\",\n",
    "            \"Cresent\":\"Crescent\",\n",
    "            \"drive\":\"Drive\",\n",
    "           'HIghway': 'Highway',\n",
    "           'Hwy': 'Highway',\n",
    "            }\n",
    "\n",
    "def audit_street_type(street_types, street_name):\n",
    "    m = street_type_re.search(street_name)\n",
    "    if m:\n",
    "        street_type = m.group()\n",
    "        if street_type not in expected:\n",
    "            street_types[street_type].add(street_name)\n",
    "            \n",
    "\n",
    "def is_street_name(elem):\n",
    "    return (elem.attrib['k'] == \"addr:street\")\n",
    "\n",
    "\n",
    "def audit(osmfile):\n",
    "    osm_file = open(osmfile, \"r\")\n",
    "    street_types = defaultdict(set)\n",
    "    for event, elem in ET.iterparse(osm_file, events=(\"start\",)):\n",
    "\n",
    "        if elem.tag == \"node\" or elem.tag == \"way\":\n",
    "            for tag in elem.iter(\"tag\"):\n",
    "                if is_street_name(tag):\n",
    "                    audit_street_type(street_types, tag.attrib['v'])\n",
    "                    tag.attrib['v']=update_name(tag.attrib['v'], mapping)    \n",
    "    return street_types\n",
    "\n",
    "def update_name(name, mapping):\n",
    "    for street_type in mapping:\n",
    "        if street_type in name:\n",
    "            name = re.sub(r'\\b' + street_type+ r'\\b\\.?', mapping[street_type],name)\n",
    "    return name"
   ]
  },
  {
   "cell_type": "code",
   "execution_count": 12,
   "metadata": {
    "collapsed": false
   },
   "outputs": [
    {
     "data": {
      "text/plain": [
       "defaultdict(set,\n",
       "            {'1100': {'First Street, Suite 1100'},\n",
       "             '1702': {'Franklin Street, Suite 1702'},\n",
       "             '3': {'Kendall Square - 3'},\n",
       "             '303': {'First Street, Suite 303'},\n",
       "             '4': {'Pier 4'},\n",
       "             '6': {'South Station, near Track 6'},\n",
       "             '846028': {'PO Box 846028'},\n",
       "             'Artery': {'Southern Artery'},\n",
       "             'Ave': {'738 Commonwealth Ave',\n",
       "              'Blue Hill Ave',\n",
       "              'Boston Ave',\n",
       "              'College Ave',\n",
       "              'Commonwealth Ave',\n",
       "              'Concord Ave',\n",
       "              'Everett Ave',\n",
       "              'Francesca Ave',\n",
       "              'Harrison Ave',\n",
       "              'Highland Ave',\n",
       "              'Josephine Ave',\n",
       "              'Lexington Ave',\n",
       "              'Massachusetts Ave',\n",
       "              'Morrison Ave',\n",
       "              'Mystic Ave',\n",
       "              'Sagamore Ave',\n",
       "              'Somerville Ave',\n",
       "              \"St. Paul's Ave\",\n",
       "              'Washington Ave',\n",
       "              'Western Ave',\n",
       "              'Willow Ave'},\n",
       "             'Ave.': {'Brighton Ave.',\n",
       "              'Massachusetts Ave.',\n",
       "              'Somerville Ave.',\n",
       "              'Spaulding Ave.'},\n",
       "             'Broadway': {'Broadway', 'West Broadway'},\n",
       "             'Brook': {'Furnace Brook'},\n",
       "             'Building': {'South Market Building'},\n",
       "             'Cambrdige': {'Cambrdige'},\n",
       "             'Center': {'Cambridge Center'},\n",
       "             'Circle': {'Achorn Circle', 'Edgewood Circle', 'Stein Circle'},\n",
       "             'Corner': {'Webster Street, Coolidge Corner'},\n",
       "             'Ct': {'Kelley Ct'},\n",
       "             'Driveway': {'Museum of Science Driveway'},\n",
       "             'Elm': {'Elm'},\n",
       "             'Federal': {'Federal'},\n",
       "             'Fellsway': {'Fellsway'},\n",
       "             'Fenway': {'Fenway'},\n",
       "             'Floor': {'Boylston Street, 5th Floor'},\n",
       "             'Greenway': {'East Boston Greenway'},\n",
       "             'HIghway': {'American Legion HIghway'},\n",
       "             'Hall': {'Faneuil Hall'},\n",
       "             'Hampshire': {'Hampshire'},\n",
       "             'Highway': {'American Legion Highway',\n",
       "              'Cummins Highway',\n",
       "              \"Monsignor O'Brien Highway\",\n",
       "              'Providence Highway',\n",
       "              'Santilli Highway'},\n",
       "             'Holland': {'Holland'},\n",
       "             'Hwy': {\"Monsignor O'Brien Hwy\"},\n",
       "             'Jamaicaway': {'Jamaicaway'},\n",
       "             'LEVEL': {'LOMASNEY WAY, ROOF LEVEL'},\n",
       "             'Lafayette': {'Avenue De Lafayette'},\n",
       "             'Mall': {'Cummington Mall'},\n",
       "             'Market': {'Faneuil Hall Market'},\n",
       "             'Newbury': {'Newbury'},\n",
       "             'Park': {'Acorn Park',\n",
       "              'Agassiz Park',\n",
       "              'Austin Park',\n",
       "              'Batterymarch Park',\n",
       "              'Canal Park',\n",
       "              'Exeter Park',\n",
       "              'Giles Park',\n",
       "              'Greenough Park',\n",
       "              'Malden Street Park',\n",
       "              'Monument Park',\n",
       "              'Newsome Park'},\n",
       "             'Pasteur': {'Avenue Louis Pasteur'},\n",
       "             'Pkwy': {'Birmingham Pkwy'},\n",
       "             'Pl': {'Longfellow Pl'},\n",
       "             'Plaza': {'Two Center Plaza'},\n",
       "             'Rd': {'Abby Rd',\n",
       "              'Aberdeen Rd',\n",
       "              'Bristol Rd',\n",
       "              'Goodnough Rd',\n",
       "              'Oakland Rd',\n",
       "              'Soldiers Field Rd',\n",
       "              'Squanto Rd'},\n",
       "             'Row': {'Assembly Row', 'East India Row', 'Professors Row'},\n",
       "             'ST': {'Newton ST'},\n",
       "             'South': {'Charles Street South'},\n",
       "             'Sq.': {'1 Kendall Sq.'},\n",
       "             'St': {'1629 Cambridge St',\n",
       "              'Adams St',\n",
       "              'Antwerp St',\n",
       "              'Arsenal St',\n",
       "              'Athol St',\n",
       "              'Bagnal St',\n",
       "              'Brentwood St',\n",
       "              'Broad St',\n",
       "              'Cambridge St',\n",
       "              'Charles St',\n",
       "              'Congress St',\n",
       "              'Cummington St',\n",
       "              'Dane St',\n",
       "              'Duval St',\n",
       "              'Elm St',\n",
       "              'Everett St',\n",
       "              'George St',\n",
       "              'Grove St',\n",
       "              'Hammond St',\n",
       "              'Hampshire St',\n",
       "              'Holton St',\n",
       "              'Kirkland St',\n",
       "              'Leighton St',\n",
       "              'Litchfield St',\n",
       "              'Lothrop St',\n",
       "              'Mackin St',\n",
       "              'Maverick St',\n",
       "              'Medford St',\n",
       "              'Merrill St',\n",
       "              'Portsmouth St',\n",
       "              'Richardson St',\n",
       "              'Sea St',\n",
       "              'South Waverly St',\n",
       "              'Stewart St',\n",
       "              'Ware St',\n",
       "              'Waverly St',\n",
       "              'Winter St'},\n",
       "             'St,': {'Walnut St,'},\n",
       "             'St.': {'Albion St.',\n",
       "              'Banks St.',\n",
       "              'Boylston St.',\n",
       "              'Centre St.',\n",
       "              'Elm St.',\n",
       "              'Main St.',\n",
       "              'Marshall St.',\n",
       "              'Maverick St.',\n",
       "              'Pearl St.',\n",
       "              'Prospect St.',\n",
       "              \"Saint Mary's St.\",\n",
       "              'Stuart St.',\n",
       "              'Tremont St.'},\n",
       "             'Street.': {'Hancock Street.'},\n",
       "             'Terrace': {'Alberta Terrace',\n",
       "              'Alveston Terrace',\n",
       "              'Arborway Terrace',\n",
       "              'Norfolk Terrace',\n",
       "              'Westbourne Terrace'},\n",
       "             'Turnpike': {'Boston Providence Turnpike'},\n",
       "             'Wharf': {'Central Wharf', 'Long Wharf'},\n",
       "             'Windsor': {'Windsor'},\n",
       "             'Winsor': {'Winsor'},\n",
       "             'floor': {'First Street, 18th floor', 'Sidney Street, 2nd floor'},\n",
       "             'place': {'argus place'},\n",
       "             'rd.': {'Corey rd.'},\n",
       "             'st': {'Main st'},\n",
       "             'street': {'Boston street'}})"
      ]
     },
     "execution_count": 12,
     "metadata": {},
     "output_type": "execute_result"
    }
   ],
   "source": [
    "audit(dataset)"
   ]
  },
  {
   "cell_type": "markdown",
   "metadata": {
    "collapsed": true
   },
   "source": [
    "### Saving csv files"
   ]
  },
  {
   "cell_type": "markdown",
   "metadata": {},
   "source": [
    "Our task is to prepare the data to be inserted into a SQL database. To do so we will parse the elements in the OSM XML file, transforming them from document format to tabular format, thus making it possible to write to .csv files. These csv files can then easily be imported to a SQL database as tables."
   ]
  },
  {
   "cell_type": "code",
   "execution_count": 13,
   "metadata": {
    "collapsed": false
   },
   "outputs": [],
   "source": [
    "OSM_PATH = \"example.osm\"\n",
    "\n",
    "NODES_PATH = \"nodes.csv\"\n",
    "NODE_TAGS_PATH = \"nodes_tags.csv\"\n",
    "WAYS_PATH = \"ways.csv\"\n",
    "WAY_NODES_PATH = \"ways_nodes.csv\"\n",
    "WAY_TAGS_PATH = \"ways_tags.csv\"\n",
    "\n",
    "LOWER_COLON = re.compile(r'^([a-z]|_)+:([a-z]|_)+')\n",
    "PROBLEMCHARS = re.compile(r'[=\\+/&<>;\\'\"\\?%#$@\\,\\. \\t\\r\\n]')\n",
    "\n",
    "SCHEMA = schema.schema\n",
    "\n",
    "# Make sure the fields order in the csvs matches the column order in the sql table schema\n",
    "NODE_FIELDS = ['id', 'lat', 'lon', 'user', 'uid', 'version', 'changeset', 'timestamp']\n",
    "NODE_TAGS_FIELDS = ['id', 'key', 'value', 'type']\n",
    "WAY_FIELDS = ['id', 'user', 'uid', 'version', 'changeset', 'timestamp']\n",
    "WAY_TAGS_FIELDS = ['id', 'key', 'value', 'type']\n",
    "WAY_NODES_FIELDS = ['id', 'node_id', 'position']\n",
    "\n",
    "\n",
    "def load_new_tag(element, secondary, default_tag_type):\n",
    "    \"\"\"\n",
    "    Load a new tag dict to go into the list of dicts for way_tags, node_tags\n",
    "    \"\"\"\n",
    "    new = {}\n",
    "    new['id'] = element.attrib['id']\n",
    "    if \":\" not in secondary.attrib['k']:\n",
    "        new['key'] = secondary.attrib['k']\n",
    "        new['type'] = default_tag_type\n",
    "    else:\n",
    "        post_colon = secondary.attrib['k'].index(\":\") + 1\n",
    "        new['key'] = secondary.attrib['k'][post_colon:]\n",
    "        new['type'] = secondary.attrib['k'][:post_colon - 1]\n",
    "    new['value'] = secondary.attrib['v']\n",
    "    return new\n",
    "    \n",
    "def shape_element(element, node_attr_fields=NODE_FIELDS, way_attr_fields=WAY_FIELDS,\n",
    "                  problem_chars=PROBLEMCHARS, default_tag_type='regular'):\n",
    "    \"\"\"Clean and shape node or way XML element to Python dict\"\"\"\n",
    "\n",
    "    node_attribs = {}\n",
    "    way_attribs = {}\n",
    "    way_nodes = []\n",
    "    tags = []  # Handle secondary tags the same way for both node and way elements\n",
    "\n",
    "    # YOUR CODE HERE\n",
    "    \n",
    "    if element.tag == \"node\" or element.tag == \"way\":\n",
    "            for tag in element.iter(\"tag\"):\n",
    "                if is_street_name(tag):\n",
    "                    tag.attrib['v']=update_name(tag.attrib['v'], mapping)\n",
    "    \n",
    "    if element.tag == 'node':\n",
    "        for attribute, value in element.attrib.iteritems():\n",
    "            if attribute in node_attr_fields:\n",
    "                node_attribs[attribute] = value\n",
    "        \n",
    "        for secondary in element.iter():\n",
    "            if secondary.tag == 'tag':\n",
    "                if problem_chars.match(secondary.attrib['k']) is not None:\n",
    "                    continue\n",
    "                else:\n",
    "                    new_tag = load_new_tag(element, secondary, default_tag_type)\n",
    "                    tags.append(new_tag)\n",
    "        return {'node': node_attribs, 'node_tags': tags}\n",
    "        \n",
    "    elif element.tag == 'way':\n",
    "        for attribute, value in element.attrib.iteritems():\n",
    "            if attribute in way_attr_fields:\n",
    "                way_attribs[attribute] = value\n",
    "                \n",
    "        counter = 0\n",
    "        for secondary in element.iter():\n",
    "            if secondary.tag == 'tag':\n",
    "                if problem_chars.match(secondary.attrib['k']) is not None:\n",
    "                    continue\n",
    "                else:\n",
    "                    new_tag = load_new_tag(element, secondary, default_tag_type)\n",
    "                    tags.append(new_tag)\n",
    "            if secondary.tag == 'nd':\n",
    "                new_node = {}\n",
    "                new_node['id'] = element.attrib['id']\n",
    "                new_node['node_id'] = secondary.attrib['ref']\n",
    "                new_node['position'] = counter\n",
    "                counter += 1\n",
    "                way_nodes.append(new_node)\n",
    "        return {'way': way_attribs, 'way_nodes': way_nodes, 'way_tags': tags}\n",
    "\n",
    "\n",
    "# ================================================== #\n",
    "#               Helper Functions                     #\n",
    "# ================================================== #\n",
    "def get_element(osm_file, tags=('node', 'way', 'relation')):\n",
    "    \"\"\"Yield element if it is the right type of tag\"\"\"\n",
    "\n",
    "    context = ET.iterparse(osm_file, events=('start', 'end'))\n",
    "    _, root = next(context)\n",
    "    for event, elem in context:\n",
    "        if event == 'end' and elem.tag in tags:\n",
    "            yield elem\n",
    "            root.clear()\n",
    "\n",
    "\n",
    "def validate_element(element, validator, schema=SCHEMA):\n",
    "    \"\"\"Raise ValidationError if element does not match schema\"\"\"\n",
    "    if validator.validate(element, schema) is not True:\n",
    "        field, errors = next(validator.errors.iteritems())\n",
    "        message_string = \"\\nElement of type '{0}' has the following errors:\\n{1}\"\n",
    "        error_string = pprint.pformat(errors)\n",
    "        \n",
    "        raise Exception(message_string.format(field, error_string))\n",
    "\n",
    "\n",
    "class UnicodeDictWriter(csv.DictWriter, object):\n",
    "    \"\"\"Extend csv.DictWriter to handle Unicode input\"\"\"\n",
    "\n",
    "    def writerow(self, row):\n",
    "        super(UnicodeDictWriter, self).writerow({\n",
    "            k: (v.encode('utf-8') if isinstance(v, unicode) else v) for k, v in row.iteritems()\n",
    "        })\n",
    "\n",
    "    def writerows(self, rows):\n",
    "        for row in rows:\n",
    "            self.writerow(row)\n",
    "\n",
    "\n",
    "# ================================================== #\n",
    "#               Main Function                        #\n",
    "# ================================================== #\n",
    "def process_map(file_in, validate):\n",
    "    \"\"\"Iteratively process each XML element and write to csv(s)\"\"\"\n",
    "\n",
    "    with codecs.open(NODES_PATH, 'w') as nodes_file, \\\n",
    "         codecs.open(NODE_TAGS_PATH, 'w') as nodes_tags_file, \\\n",
    "         codecs.open(WAYS_PATH, 'w') as ways_file, \\\n",
    "         codecs.open(WAY_NODES_PATH, 'w') as way_nodes_file, \\\n",
    "         codecs.open(WAY_TAGS_PATH, 'w') as way_tags_file:\n",
    "\n",
    "        nodes_writer = UnicodeDictWriter(nodes_file, NODE_FIELDS)\n",
    "        node_tags_writer = UnicodeDictWriter(nodes_tags_file, NODE_TAGS_FIELDS)\n",
    "        ways_writer = UnicodeDictWriter(ways_file, WAY_FIELDS)\n",
    "        way_nodes_writer = UnicodeDictWriter(way_nodes_file, WAY_NODES_FIELDS)\n",
    "        way_tags_writer = UnicodeDictWriter(way_tags_file, WAY_TAGS_FIELDS)\n",
    "\n",
    "        nodes_writer.writeheader()\n",
    "        node_tags_writer.writeheader()\n",
    "        ways_writer.writeheader()\n",
    "        way_nodes_writer.writeheader()\n",
    "        way_tags_writer.writeheader()\n",
    "\n",
    "        validator = cerberus.Validator()\n",
    "\n",
    "        for element in get_element(file_in, tags=('node', 'way')):\n",
    "            el = shape_element(element)\n",
    "            if el:\n",
    "                #el = update_name(element, mapping)\n",
    "                if validate is True:\n",
    "                    validate_element(el, validator)\n",
    "\n",
    "                if element.tag == 'node':\n",
    "                    nodes_writer.writerow(el['node'])\n",
    "                    node_tags_writer.writerows(el['node_tags'])\n",
    "                elif element.tag == 'way':\n",
    "                    ways_writer.writerow(el['way'])\n",
    "                    way_nodes_writer.writerows(el['way_nodes'])\n",
    "                    way_tags_writer.writerows(el['way_tags'])"
   ]
  },
  {
   "cell_type": "code",
   "execution_count": 14,
   "metadata": {
    "collapsed": false
   },
   "outputs": [],
   "source": [
    "data=process_map(dataset, validate=False)"
   ]
  },
  {
   "cell_type": "markdown",
   "metadata": {
    "collapsed": true
   },
   "source": [
    "### Taking a look at the csv files"
   ]
  },
  {
   "cell_type": "markdown",
   "metadata": {},
   "source": [
    "Now we can easily see the content of our csv files using Pandas. To show how easy it is to correct the data in using Pandas we will correct the phone numbers in our dataset."
   ]
  },
  {
   "cell_type": "code",
   "execution_count": 15,
   "metadata": {
    "collapsed": false
   },
   "outputs": [
    {
     "data": {
      "text/html": [
       "<div>\n",
       "<table border=\"1\" class=\"dataframe\">\n",
       "  <thead>\n",
       "    <tr style=\"text-align: right;\">\n",
       "      <th></th>\n",
       "      <th>id</th>\n",
       "      <th>lat</th>\n",
       "      <th>lon</th>\n",
       "      <th>user</th>\n",
       "      <th>uid</th>\n",
       "      <th>version</th>\n",
       "      <th>changeset</th>\n",
       "      <th>timestamp</th>\n",
       "    </tr>\n",
       "  </thead>\n",
       "  <tbody>\n",
       "    <tr>\n",
       "      <th>0</th>\n",
       "      <td>30730952</td>\n",
       "      <td>42.367810</td>\n",
       "      <td>-71.021871</td>\n",
       "      <td>wambag</td>\n",
       "      <td>326503</td>\n",
       "      <td>2</td>\n",
       "      <td>14335103</td>\n",
       "      <td>2012-12-19T19:24:31Z</td>\n",
       "    </tr>\n",
       "    <tr>\n",
       "      <th>1</th>\n",
       "      <td>30730953</td>\n",
       "      <td>42.367736</td>\n",
       "      <td>-71.021857</td>\n",
       "      <td>wambag</td>\n",
       "      <td>326503</td>\n",
       "      <td>2</td>\n",
       "      <td>14335103</td>\n",
       "      <td>2012-12-19T19:24:31Z</td>\n",
       "    </tr>\n",
       "    <tr>\n",
       "      <th>2</th>\n",
       "      <td>30730954</td>\n",
       "      <td>42.367608</td>\n",
       "      <td>-71.021817</td>\n",
       "      <td>wambag</td>\n",
       "      <td>326503</td>\n",
       "      <td>2</td>\n",
       "      <td>14335103</td>\n",
       "      <td>2012-12-19T19:24:31Z</td>\n",
       "    </tr>\n",
       "    <tr>\n",
       "      <th>3</th>\n",
       "      <td>30730955</td>\n",
       "      <td>42.367523</td>\n",
       "      <td>-71.021849</td>\n",
       "      <td>wambag</td>\n",
       "      <td>326503</td>\n",
       "      <td>2</td>\n",
       "      <td>14335103</td>\n",
       "      <td>2012-12-19T19:24:32Z</td>\n",
       "    </tr>\n",
       "    <tr>\n",
       "      <th>4</th>\n",
       "      <td>30730956</td>\n",
       "      <td>42.367455</td>\n",
       "      <td>-71.021886</td>\n",
       "      <td>wambag</td>\n",
       "      <td>326503</td>\n",
       "      <td>2</td>\n",
       "      <td>14335103</td>\n",
       "      <td>2012-12-19T19:24:31Z</td>\n",
       "    </tr>\n",
       "  </tbody>\n",
       "</table>\n",
       "</div>"
      ],
      "text/plain": [
       "         id        lat        lon    user     uid  version  changeset  \\\n",
       "0  30730952  42.367810 -71.021871  wambag  326503        2   14335103   \n",
       "1  30730953  42.367736 -71.021857  wambag  326503        2   14335103   \n",
       "2  30730954  42.367608 -71.021817  wambag  326503        2   14335103   \n",
       "3  30730955  42.367523 -71.021849  wambag  326503        2   14335103   \n",
       "4  30730956  42.367455 -71.021886  wambag  326503        2   14335103   \n",
       "\n",
       "              timestamp  \n",
       "0  2012-12-19T19:24:31Z  \n",
       "1  2012-12-19T19:24:31Z  \n",
       "2  2012-12-19T19:24:31Z  \n",
       "3  2012-12-19T19:24:32Z  \n",
       "4  2012-12-19T19:24:31Z  "
      ]
     },
     "execution_count": 15,
     "metadata": {},
     "output_type": "execute_result"
    }
   ],
   "source": [
    "csv_nodes = pd.read_csv(\"nodes.csv\", encoding=\"utf-8\")\n",
    "csv_nodes.head()"
   ]
  },
  {
   "cell_type": "markdown",
   "metadata": {},
   "source": [
    "#### Correcting Phone Numbers with Pandas"
   ]
  },
  {
   "cell_type": "code",
   "execution_count": 16,
   "metadata": {
    "collapsed": false
   },
   "outputs": [
    {
     "data": {
      "text/html": [
       "<div>\n",
       "<table border=\"1\" class=\"dataframe\">\n",
       "  <thead>\n",
       "    <tr style=\"text-align: right;\">\n",
       "      <th></th>\n",
       "      <th>id</th>\n",
       "      <th>key</th>\n",
       "      <th>value</th>\n",
       "      <th>type</th>\n",
       "    </tr>\n",
       "  </thead>\n",
       "  <tbody>\n",
       "    <tr>\n",
       "      <th>204587</th>\n",
       "      <td>257578009</td>\n",
       "      <td>phone</td>\n",
       "      <td>617-635-8532</td>\n",
       "      <td>regular</td>\n",
       "    </tr>\n",
       "    <tr>\n",
       "      <th>204596</th>\n",
       "      <td>257578041</td>\n",
       "      <td>phone</td>\n",
       "      <td>617-484-3519</td>\n",
       "      <td>regular</td>\n",
       "    </tr>\n",
       "    <tr>\n",
       "      <th>204605</th>\n",
       "      <td>257578075</td>\n",
       "      <td>phone</td>\n",
       "      <td>617-635-8710</td>\n",
       "      <td>regular</td>\n",
       "    </tr>\n",
       "    <tr>\n",
       "      <th>204614</th>\n",
       "      <td>257578119</td>\n",
       "      <td>phone</td>\n",
       "      <td>617-635-8930</td>\n",
       "      <td>regular</td>\n",
       "    </tr>\n",
       "    <tr>\n",
       "      <th>204625</th>\n",
       "      <td>257578122</td>\n",
       "      <td>phone</td>\n",
       "      <td>617-635-1534</td>\n",
       "      <td>regular</td>\n",
       "    </tr>\n",
       "    <tr>\n",
       "      <th>204635</th>\n",
       "      <td>257578145</td>\n",
       "      <td>phone</td>\n",
       "      <td>617-635-8507</td>\n",
       "      <td>regular</td>\n",
       "    </tr>\n",
       "    <tr>\n",
       "      <th>204645</th>\n",
       "      <td>257578151</td>\n",
       "      <td>phone</td>\n",
       "      <td>617-984-8762</td>\n",
       "      <td>regular</td>\n",
       "    </tr>\n",
       "    <tr>\n",
       "      <th>204655</th>\n",
       "      <td>257578166</td>\n",
       "      <td>phone</td>\n",
       "      <td>617-552-7800</td>\n",
       "      <td>regular</td>\n",
       "    </tr>\n",
       "    <tr>\n",
       "      <th>204666</th>\n",
       "      <td>257578171</td>\n",
       "      <td>phone</td>\n",
       "      <td>(617) 464-2485</td>\n",
       "      <td>regular</td>\n",
       "    </tr>\n",
       "    <tr>\n",
       "      <th>204676</th>\n",
       "      <td>257578225</td>\n",
       "      <td>phone</td>\n",
       "      <td>781-326-5350</td>\n",
       "      <td>regular</td>\n",
       "    </tr>\n",
       "    <tr>\n",
       "      <th>204685</th>\n",
       "      <td>257578241</td>\n",
       "      <td>phone</td>\n",
       "      <td>617-361-0050</td>\n",
       "      <td>regular</td>\n",
       "    </tr>\n",
       "    <tr>\n",
       "      <th>204695</th>\n",
       "      <td>257578246</td>\n",
       "      <td>phone</td>\n",
       "      <td>617-635-1660</td>\n",
       "      <td>regular</td>\n",
       "    </tr>\n",
       "    <tr>\n",
       "      <th>204705</th>\n",
       "      <td>257578249</td>\n",
       "      <td>phone</td>\n",
       "      <td>617-442-5419</td>\n",
       "      <td>regular</td>\n",
       "    </tr>\n",
       "    <tr>\n",
       "      <th>204715</th>\n",
       "      <td>257578252</td>\n",
       "      <td>phone</td>\n",
       "      <td>617-635-8264</td>\n",
       "      <td>regular</td>\n",
       "    </tr>\n",
       "    <tr>\n",
       "      <th>204728</th>\n",
       "      <td>257578263</td>\n",
       "      <td>phone</td>\n",
       "      <td>617-474-7950</td>\n",
       "      <td>regular</td>\n",
       "    </tr>\n",
       "    <tr>\n",
       "      <th>204733</th>\n",
       "      <td>257578286</td>\n",
       "      <td>phone</td>\n",
       "      <td>617-254-8383</td>\n",
       "      <td>regular</td>\n",
       "    </tr>\n",
       "    <tr>\n",
       "      <th>204743</th>\n",
       "      <td>257578297</td>\n",
       "      <td>phone</td>\n",
       "      <td>617-349-6555</td>\n",
       "      <td>regular</td>\n",
       "    </tr>\n",
       "    <tr>\n",
       "      <th>204752</th>\n",
       "      <td>257578310</td>\n",
       "      <td>phone</td>\n",
       "      <td>617-266-8427</td>\n",
       "      <td>regular</td>\n",
       "    </tr>\n",
       "    <tr>\n",
       "      <th>204762</th>\n",
       "      <td>257578320</td>\n",
       "      <td>phone</td>\n",
       "      <td>781-393-2333</td>\n",
       "      <td>regular</td>\n",
       "    </tr>\n",
       "    <tr>\n",
       "      <th>204775</th>\n",
       "      <td>257578322</td>\n",
       "      <td>phone</td>\n",
       "      <td>617-635-6824</td>\n",
       "      <td>regular</td>\n",
       "    </tr>\n",
       "    <tr>\n",
       "      <th>204785</th>\n",
       "      <td>257578331</td>\n",
       "      <td>phone</td>\n",
       "      <td>617-626-8857</td>\n",
       "      <td>regular</td>\n",
       "    </tr>\n",
       "    <tr>\n",
       "      <th>204795</th>\n",
       "      <td>257578332</td>\n",
       "      <td>phone</td>\n",
       "      <td>617-846-5509</td>\n",
       "      <td>regular</td>\n",
       "    </tr>\n",
       "    <tr>\n",
       "      <th>204803</th>\n",
       "      <td>257578337</td>\n",
       "      <td>phone</td>\n",
       "      <td>617-635-8545</td>\n",
       "      <td>regular</td>\n",
       "    </tr>\n",
       "    <tr>\n",
       "      <th>204812</th>\n",
       "      <td>257578345</td>\n",
       "      <td>phone</td>\n",
       "      <td>617-635-6456</td>\n",
       "      <td>regular</td>\n",
       "    </tr>\n",
       "    <tr>\n",
       "      <th>204822</th>\n",
       "      <td>257578352</td>\n",
       "      <td>phone</td>\n",
       "      <td>617-635-8940</td>\n",
       "      <td>regular</td>\n",
       "    </tr>\n",
       "    <tr>\n",
       "      <th>204831</th>\n",
       "      <td>257578362</td>\n",
       "      <td>phone</td>\n",
       "      <td>617-284-7800</td>\n",
       "      <td>regular</td>\n",
       "    </tr>\n",
       "    <tr>\n",
       "      <th>204838</th>\n",
       "      <td>257578368</td>\n",
       "      <td>phone</td>\n",
       "      <td>617-265-1172</td>\n",
       "      <td>regular</td>\n",
       "    </tr>\n",
       "    <tr>\n",
       "      <th>204848</th>\n",
       "      <td>257578369</td>\n",
       "      <td>phone</td>\n",
       "      <td>617-635-8608</td>\n",
       "      <td>regular</td>\n",
       "    </tr>\n",
       "    <tr>\n",
       "      <th>204858</th>\n",
       "      <td>257578370</td>\n",
       "      <td>phone</td>\n",
       "      <td>617-635-8497</td>\n",
       "      <td>regular</td>\n",
       "    </tr>\n",
       "    <tr>\n",
       "      <th>204867</th>\n",
       "      <td>257578389</td>\n",
       "      <td>phone</td>\n",
       "      <td>617-559-6700</td>\n",
       "      <td>regular</td>\n",
       "    </tr>\n",
       "    <tr>\n",
       "      <th>...</th>\n",
       "      <td>...</td>\n",
       "      <td>...</td>\n",
       "      <td>...</td>\n",
       "      <td>...</td>\n",
       "    </tr>\n",
       "    <tr>\n",
       "      <th>288813</th>\n",
       "      <td>4270176889</td>\n",
       "      <td>phone</td>\n",
       "      <td>617-422-5898</td>\n",
       "      <td>regular</td>\n",
       "    </tr>\n",
       "    <tr>\n",
       "      <th>289402</th>\n",
       "      <td>4314300983</td>\n",
       "      <td>phone</td>\n",
       "      <td>+1 617 2770324</td>\n",
       "      <td>regular</td>\n",
       "    </tr>\n",
       "    <tr>\n",
       "      <th>289440</th>\n",
       "      <td>4322208750</td>\n",
       "      <td>phone</td>\n",
       "      <td>(617) 577-7427</td>\n",
       "      <td>regular</td>\n",
       "    </tr>\n",
       "    <tr>\n",
       "      <th>289466</th>\n",
       "      <td>4327401890</td>\n",
       "      <td>phone</td>\n",
       "      <td>+16179451008</td>\n",
       "      <td>regular</td>\n",
       "    </tr>\n",
       "    <tr>\n",
       "      <th>289469</th>\n",
       "      <td>4327466099</td>\n",
       "      <td>phone</td>\n",
       "      <td>+1617958DELI</td>\n",
       "      <td>regular</td>\n",
       "    </tr>\n",
       "    <tr>\n",
       "      <th>290100</th>\n",
       "      <td>4362104592</td>\n",
       "      <td>phone</td>\n",
       "      <td>6178460955</td>\n",
       "      <td>regular</td>\n",
       "    </tr>\n",
       "    <tr>\n",
       "      <th>290164</th>\n",
       "      <td>4363676690</td>\n",
       "      <td>phone</td>\n",
       "      <td>+16176617411</td>\n",
       "      <td>regular</td>\n",
       "    </tr>\n",
       "    <tr>\n",
       "      <th>290192</th>\n",
       "      <td>4363676695</td>\n",
       "      <td>phone</td>\n",
       "      <td>+16172997405</td>\n",
       "      <td>regular</td>\n",
       "    </tr>\n",
       "    <tr>\n",
       "      <th>290319</th>\n",
       "      <td>4370198940</td>\n",
       "      <td>phone</td>\n",
       "      <td>617-227-0150</td>\n",
       "      <td>regular</td>\n",
       "    </tr>\n",
       "    <tr>\n",
       "      <th>290348</th>\n",
       "      <td>4378097784</td>\n",
       "      <td>phone</td>\n",
       "      <td>+16173494758</td>\n",
       "      <td>regular</td>\n",
       "    </tr>\n",
       "    <tr>\n",
       "      <th>290355</th>\n",
       "      <td>4378097785</td>\n",
       "      <td>phone</td>\n",
       "      <td>+16178764853</td>\n",
       "      <td>regular</td>\n",
       "    </tr>\n",
       "    <tr>\n",
       "      <th>290404</th>\n",
       "      <td>4382629797</td>\n",
       "      <td>phone</td>\n",
       "      <td>+1 617 236 0990</td>\n",
       "      <td>regular</td>\n",
       "    </tr>\n",
       "    <tr>\n",
       "      <th>290414</th>\n",
       "      <td>4382774101</td>\n",
       "      <td>phone</td>\n",
       "      <td>+16176282379</td>\n",
       "      <td>regular</td>\n",
       "    </tr>\n",
       "    <tr>\n",
       "      <th>290923</th>\n",
       "      <td>4393788889</td>\n",
       "      <td>phone</td>\n",
       "      <td>6176661079</td>\n",
       "      <td>regular</td>\n",
       "    </tr>\n",
       "    <tr>\n",
       "      <th>290973</th>\n",
       "      <td>4401722089</td>\n",
       "      <td>phone</td>\n",
       "      <td>18006350489</td>\n",
       "      <td>regular</td>\n",
       "    </tr>\n",
       "    <tr>\n",
       "      <th>291052</th>\n",
       "      <td>4406274492</td>\n",
       "      <td>phone</td>\n",
       "      <td>6173811647</td>\n",
       "      <td>regular</td>\n",
       "    </tr>\n",
       "    <tr>\n",
       "      <th>291182</th>\n",
       "      <td>4421441429</td>\n",
       "      <td>phone</td>\n",
       "      <td>+16179452708</td>\n",
       "      <td>regular</td>\n",
       "    </tr>\n",
       "    <tr>\n",
       "      <th>291204</th>\n",
       "      <td>4428234491</td>\n",
       "      <td>phone</td>\n",
       "      <td>857 317 5220</td>\n",
       "      <td>regular</td>\n",
       "    </tr>\n",
       "    <tr>\n",
       "      <th>291221</th>\n",
       "      <td>4436132928</td>\n",
       "      <td>phone</td>\n",
       "      <td>+1 617-471-8530</td>\n",
       "      <td>regular</td>\n",
       "    </tr>\n",
       "    <tr>\n",
       "      <th>291627</th>\n",
       "      <td>4466179381</td>\n",
       "      <td>phone</td>\n",
       "      <td>617-472-3232</td>\n",
       "      <td>regular</td>\n",
       "    </tr>\n",
       "    <tr>\n",
       "      <th>291633</th>\n",
       "      <td>4467144190</td>\n",
       "      <td>phone</td>\n",
       "      <td>617-723-9300</td>\n",
       "      <td>regular</td>\n",
       "    </tr>\n",
       "    <tr>\n",
       "      <th>291637</th>\n",
       "      <td>4467155690</td>\n",
       "      <td>phone</td>\n",
       "      <td>1-617-227-3962</td>\n",
       "      <td>regular</td>\n",
       "    </tr>\n",
       "    <tr>\n",
       "      <th>291643</th>\n",
       "      <td>4467170089</td>\n",
       "      <td>phone</td>\n",
       "      <td>617-227-0236</td>\n",
       "      <td>regular</td>\n",
       "    </tr>\n",
       "    <tr>\n",
       "      <th>291647</th>\n",
       "      <td>4467181989</td>\n",
       "      <td>phone</td>\n",
       "      <td>617-227-6005</td>\n",
       "      <td>regular</td>\n",
       "    </tr>\n",
       "    <tr>\n",
       "      <th>291667</th>\n",
       "      <td>4477469398</td>\n",
       "      <td>phone</td>\n",
       "      <td>6172414999</td>\n",
       "      <td>regular</td>\n",
       "    </tr>\n",
       "    <tr>\n",
       "      <th>291697</th>\n",
       "      <td>4492931791</td>\n",
       "      <td>phone</td>\n",
       "      <td>1-617-437-7700</td>\n",
       "      <td>regular</td>\n",
       "    </tr>\n",
       "    <tr>\n",
       "      <th>291716</th>\n",
       "      <td>4494803884</td>\n",
       "      <td>phone</td>\n",
       "      <td>+16173543600</td>\n",
       "      <td>regular</td>\n",
       "    </tr>\n",
       "    <tr>\n",
       "      <th>291738</th>\n",
       "      <td>4503857158</td>\n",
       "      <td>phone</td>\n",
       "      <td>+16175722000</td>\n",
       "      <td>regular</td>\n",
       "    </tr>\n",
       "    <tr>\n",
       "      <th>291760</th>\n",
       "      <td>4517326093</td>\n",
       "      <td>phone</td>\n",
       "      <td>1-617-421-9595</td>\n",
       "      <td>regular</td>\n",
       "    </tr>\n",
       "    <tr>\n",
       "      <th>291769</th>\n",
       "      <td>4518892748</td>\n",
       "      <td>phone</td>\n",
       "      <td>+1-617-491-1200</td>\n",
       "      <td>regular</td>\n",
       "    </tr>\n",
       "  </tbody>\n",
       "</table>\n",
       "<p>714 rows × 4 columns</p>\n",
       "</div>"
      ],
      "text/plain": [
       "                id    key            value     type\n",
       "204587   257578009  phone     617-635-8532  regular\n",
       "204596   257578041  phone     617-484-3519  regular\n",
       "204605   257578075  phone     617-635-8710  regular\n",
       "204614   257578119  phone     617-635-8930  regular\n",
       "204625   257578122  phone     617-635-1534  regular\n",
       "204635   257578145  phone     617-635-8507  regular\n",
       "204645   257578151  phone     617-984-8762  regular\n",
       "204655   257578166  phone     617-552-7800  regular\n",
       "204666   257578171  phone   (617) 464-2485  regular\n",
       "204676   257578225  phone     781-326-5350  regular\n",
       "204685   257578241  phone     617-361-0050  regular\n",
       "204695   257578246  phone     617-635-1660  regular\n",
       "204705   257578249  phone     617-442-5419  regular\n",
       "204715   257578252  phone     617-635-8264  regular\n",
       "204728   257578263  phone     617-474-7950  regular\n",
       "204733   257578286  phone     617-254-8383  regular\n",
       "204743   257578297  phone     617-349-6555  regular\n",
       "204752   257578310  phone     617-266-8427  regular\n",
       "204762   257578320  phone     781-393-2333  regular\n",
       "204775   257578322  phone     617-635-6824  regular\n",
       "204785   257578331  phone     617-626-8857  regular\n",
       "204795   257578332  phone     617-846-5509  regular\n",
       "204803   257578337  phone     617-635-8545  regular\n",
       "204812   257578345  phone     617-635-6456  regular\n",
       "204822   257578352  phone     617-635-8940  regular\n",
       "204831   257578362  phone     617-284-7800  regular\n",
       "204838   257578368  phone     617-265-1172  regular\n",
       "204848   257578369  phone     617-635-8608  regular\n",
       "204858   257578370  phone     617-635-8497  regular\n",
       "204867   257578389  phone     617-559-6700  regular\n",
       "...            ...    ...              ...      ...\n",
       "288813  4270176889  phone     617-422-5898  regular\n",
       "289402  4314300983  phone   +1 617 2770324  regular\n",
       "289440  4322208750  phone   (617) 577-7427  regular\n",
       "289466  4327401890  phone     +16179451008  regular\n",
       "289469  4327466099  phone     +1617958DELI  regular\n",
       "290100  4362104592  phone       6178460955  regular\n",
       "290164  4363676690  phone     +16176617411  regular\n",
       "290192  4363676695  phone     +16172997405  regular\n",
       "290319  4370198940  phone     617-227-0150  regular\n",
       "290348  4378097784  phone     +16173494758  regular\n",
       "290355  4378097785  phone     +16178764853  regular\n",
       "290404  4382629797  phone  +1 617 236 0990  regular\n",
       "290414  4382774101  phone     +16176282379  regular\n",
       "290923  4393788889  phone       6176661079  regular\n",
       "290973  4401722089  phone      18006350489  regular\n",
       "291052  4406274492  phone       6173811647  regular\n",
       "291182  4421441429  phone     +16179452708  regular\n",
       "291204  4428234491  phone     857 317 5220  regular\n",
       "291221  4436132928  phone  +1 617-471-8530  regular\n",
       "291627  4466179381  phone     617-472-3232  regular\n",
       "291633  4467144190  phone     617-723-9300  regular\n",
       "291637  4467155690  phone   1-617-227-3962  regular\n",
       "291643  4467170089  phone     617-227-0236  regular\n",
       "291647  4467181989  phone     617-227-6005  regular\n",
       "291667  4477469398  phone       6172414999  regular\n",
       "291697  4492931791  phone   1-617-437-7700  regular\n",
       "291716  4494803884  phone     +16173543600  regular\n",
       "291738  4503857158  phone     +16175722000  regular\n",
       "291760  4517326093  phone   1-617-421-9595  regular\n",
       "291769  4518892748  phone  +1-617-491-1200  regular\n",
       "\n",
       "[714 rows x 4 columns]"
      ]
     },
     "execution_count": 16,
     "metadata": {},
     "output_type": "execute_result"
    }
   ],
   "source": [
    "csv_nodes_tags = pd.read_csv(\"nodes_tags.csv\", encoding=\"utf-8\")\n",
    "csv_nodes_tags.head()\n",
    "csv_nodes_tags.loc[csv_nodes_tags.loc[:,'key'] == \"phone\",:]"
   ]
  },
  {
   "cell_type": "markdown",
   "metadata": {},
   "source": [
    "Here are our helper functions:"
   ]
  },
  {
   "cell_type": "code",
   "execution_count": 17,
   "metadata": {
    "collapsed": false
   },
   "outputs": [],
   "source": [
    "def only_digits(string_to_filter):\n",
    "    \"\"\"\n",
    "    Filters the phone number and leaves only digits 0-9\n",
    "    \"\"\"\n",
    "    return ''.join(c for c in string_to_filter if c in \"0123456789\")\n",
    "\n",
    "def correct_phone_number(ph_number):\n",
    "    \"\"\"\n",
    "    Transforms the phone number into the ###-###-#### format\n",
    "    \"\"\"\n",
    "    result = only_digits(str(ph_number))\n",
    "    if len(result) > 0 and result[0] == \"1\":\n",
    "        result = result[1:]\n",
    "    if len(result) == 10:\n",
    "        return result[0:3] + \"-\" + result[3:6] + \"-\" + result[6:10]\n",
    "    else:\n",
    "        return \"incorrect_num\"\n",
    "num = \"+1-617-437-8884\"\n",
    "\n"
   ]
  },
  {
   "cell_type": "markdown",
   "metadata": {},
   "source": [
    "Here we apply our helper functions to our dataset:"
   ]
  },
  {
   "cell_type": "code",
   "execution_count": 18,
   "metadata": {
    "collapsed": false
   },
   "outputs": [],
   "source": [
    "csv_nodes_tags.loc[csv_nodes_tags.loc[:,'key'] == \"phone\", \"value\"] = \\\n",
    "csv_nodes_tags.loc[csv_nodes_tags.loc[:,'key'] == \"phone\", \"value\"].apply(correct_phone_number)"
   ]
  },
  {
   "cell_type": "code",
   "execution_count": 19,
   "metadata": {
    "collapsed": false
   },
   "outputs": [
    {
     "data": {
      "text/html": [
       "<div>\n",
       "<table border=\"1\" class=\"dataframe\">\n",
       "  <thead>\n",
       "    <tr style=\"text-align: right;\">\n",
       "      <th></th>\n",
       "      <th>id</th>\n",
       "      <th>user</th>\n",
       "      <th>uid</th>\n",
       "      <th>version</th>\n",
       "      <th>changeset</th>\n",
       "      <th>timestamp</th>\n",
       "    </tr>\n",
       "  </thead>\n",
       "  <tbody>\n",
       "    <tr>\n",
       "      <th>0</th>\n",
       "      <td>4790718</td>\n",
       "      <td>JessAk71</td>\n",
       "      <td>381909</td>\n",
       "      <td>3</td>\n",
       "      <td>6963203</td>\n",
       "      <td>2011-01-14T00:06:42Z</td>\n",
       "    </tr>\n",
       "    <tr>\n",
       "      <th>1</th>\n",
       "      <td>4790735</td>\n",
       "      <td>claysmalley</td>\n",
       "      <td>119881</td>\n",
       "      <td>4</td>\n",
       "      <td>9069918</td>\n",
       "      <td>2011-08-19T22:12:46Z</td>\n",
       "    </tr>\n",
       "    <tr>\n",
       "      <th>2</th>\n",
       "      <td>4824114</td>\n",
       "      <td>effektz</td>\n",
       "      <td>3983283</td>\n",
       "      <td>20</td>\n",
       "      <td>39519438</td>\n",
       "      <td>2016-05-23T20:54:09Z</td>\n",
       "    </tr>\n",
       "    <tr>\n",
       "      <th>3</th>\n",
       "      <td>4824115</td>\n",
       "      <td>ezr2</td>\n",
       "      <td>1733549</td>\n",
       "      <td>13</td>\n",
       "      <td>32296955</td>\n",
       "      <td>2015-06-29T23:22:38Z</td>\n",
       "    </tr>\n",
       "    <tr>\n",
       "      <th>4</th>\n",
       "      <td>4824116</td>\n",
       "      <td>effektz</td>\n",
       "      <td>3983283</td>\n",
       "      <td>24</td>\n",
       "      <td>39518613</td>\n",
       "      <td>2016-05-23T20:16:38Z</td>\n",
       "    </tr>\n",
       "  </tbody>\n",
       "</table>\n",
       "</div>"
      ],
      "text/plain": [
       "        id         user      uid  version  changeset             timestamp\n",
       "0  4790718     JessAk71   381909        3    6963203  2011-01-14T00:06:42Z\n",
       "1  4790735  claysmalley   119881        4    9069918  2011-08-19T22:12:46Z\n",
       "2  4824114      effektz  3983283       20   39519438  2016-05-23T20:54:09Z\n",
       "3  4824115         ezr2  1733549       13   32296955  2015-06-29T23:22:38Z\n",
       "4  4824116      effektz  3983283       24   39518613  2016-05-23T20:16:38Z"
      ]
     },
     "execution_count": 19,
     "metadata": {},
     "output_type": "execute_result"
    }
   ],
   "source": [
    "csv_ways = pd.read_csv(\"ways.csv\", encoding=\"utf-8\")\n",
    "csv_ways.head()"
   ]
  },
  {
   "cell_type": "code",
   "execution_count": 20,
   "metadata": {
    "collapsed": false
   },
   "outputs": [
    {
     "data": {
      "text/html": [
       "<div>\n",
       "<table border=\"1\" class=\"dataframe\">\n",
       "  <thead>\n",
       "    <tr style=\"text-align: right;\">\n",
       "      <th></th>\n",
       "      <th>id</th>\n",
       "      <th>node_id</th>\n",
       "      <th>position</th>\n",
       "    </tr>\n",
       "  </thead>\n",
       "  <tbody>\n",
       "    <tr>\n",
       "      <th>0</th>\n",
       "      <td>4790718</td>\n",
       "      <td>30730967</td>\n",
       "      <td>0</td>\n",
       "    </tr>\n",
       "    <tr>\n",
       "      <th>1</th>\n",
       "      <td>4790718</td>\n",
       "      <td>30730968</td>\n",
       "      <td>1</td>\n",
       "    </tr>\n",
       "    <tr>\n",
       "      <th>2</th>\n",
       "      <td>4790718</td>\n",
       "      <td>325383304</td>\n",
       "      <td>2</td>\n",
       "    </tr>\n",
       "    <tr>\n",
       "      <th>3</th>\n",
       "      <td>4790735</td>\n",
       "      <td>1404985339</td>\n",
       "      <td>0</td>\n",
       "    </tr>\n",
       "    <tr>\n",
       "      <th>4</th>\n",
       "      <td>4790735</td>\n",
       "      <td>1404985374</td>\n",
       "      <td>1</td>\n",
       "    </tr>\n",
       "  </tbody>\n",
       "</table>\n",
       "</div>"
      ],
      "text/plain": [
       "        id     node_id  position\n",
       "0  4790718    30730967         0\n",
       "1  4790718    30730968         1\n",
       "2  4790718   325383304         2\n",
       "3  4790735  1404985339         0\n",
       "4  4790735  1404985374         1"
      ]
     },
     "execution_count": 20,
     "metadata": {},
     "output_type": "execute_result"
    }
   ],
   "source": [
    "csv_ways_nodes = pd.read_csv(\"ways_nodes.csv\", encoding=\"utf-8\")\n",
    "csv_ways_nodes.head()"
   ]
  },
  {
   "cell_type": "code",
   "execution_count": 21,
   "metadata": {
    "collapsed": false
   },
   "outputs": [
    {
     "data": {
      "text/html": [
       "<div>\n",
       "<table border=\"1\" class=\"dataframe\">\n",
       "  <thead>\n",
       "    <tr style=\"text-align: right;\">\n",
       "      <th></th>\n",
       "      <th>id</th>\n",
       "      <th>key</th>\n",
       "      <th>value</th>\n",
       "      <th>type</th>\n",
       "    </tr>\n",
       "  </thead>\n",
       "  <tbody>\n",
       "    <tr>\n",
       "      <th>0</th>\n",
       "      <td>4790718</td>\n",
       "      <td>foot</td>\n",
       "      <td>yes</td>\n",
       "      <td>regular</td>\n",
       "    </tr>\n",
       "    <tr>\n",
       "      <th>1</th>\n",
       "      <td>4790718</td>\n",
       "      <td>name</td>\n",
       "      <td>Skybridge to Hilton</td>\n",
       "      <td>regular</td>\n",
       "    </tr>\n",
       "    <tr>\n",
       "      <th>2</th>\n",
       "      <td>4790718</td>\n",
       "      <td>layer</td>\n",
       "      <td>1</td>\n",
       "      <td>regular</td>\n",
       "    </tr>\n",
       "    <tr>\n",
       "      <th>3</th>\n",
       "      <td>4790718</td>\n",
       "      <td>bridge</td>\n",
       "      <td>yes</td>\n",
       "      <td>regular</td>\n",
       "    </tr>\n",
       "    <tr>\n",
       "      <th>4</th>\n",
       "      <td>4790718</td>\n",
       "      <td>highway</td>\n",
       "      <td>footway</td>\n",
       "      <td>regular</td>\n",
       "    </tr>\n",
       "  </tbody>\n",
       "</table>\n",
       "</div>"
      ],
      "text/plain": [
       "        id      key                value     type\n",
       "0  4790718     foot                  yes  regular\n",
       "1  4790718     name  Skybridge to Hilton  regular\n",
       "2  4790718    layer                    1  regular\n",
       "3  4790718   bridge                  yes  regular\n",
       "4  4790718  highway              footway  regular"
      ]
     },
     "execution_count": 21,
     "metadata": {},
     "output_type": "execute_result"
    }
   ],
   "source": [
    "csv_ways_tags = pd.read_csv(\"ways_tags.csv\", encoding=\"utf-8\")\n",
    "csv_ways_tags.head()"
   ]
  },
  {
   "cell_type": "markdown",
   "metadata": {},
   "source": [
    "### Insert Data "
   ]
  },
  {
   "cell_type": "markdown",
   "metadata": {},
   "source": [
    "We can easily import the data saved in the csv files to the sqlite database using Sqlalchemy package."
   ]
  },
  {
   "cell_type": "code",
   "execution_count": 22,
   "metadata": {
    "collapsed": false
   },
   "outputs": [],
   "source": [
    "disk_engine = sqlalchemy.create_engine('sqlite:///boston_db.db')"
   ]
  },
  {
   "cell_type": "code",
   "execution_count": 23,
   "metadata": {
    "collapsed": true
   },
   "outputs": [],
   "source": [
    "csv_nodes.to_sql('nodes', disk_engine, if_exists='replace', index=False)"
   ]
  },
  {
   "cell_type": "code",
   "execution_count": 24,
   "metadata": {
    "collapsed": true
   },
   "outputs": [],
   "source": [
    "csv_nodes_tags.to_sql('nodes_tags', disk_engine, if_exists='replace', index=False)"
   ]
  },
  {
   "cell_type": "code",
   "execution_count": 25,
   "metadata": {
    "collapsed": false
   },
   "outputs": [],
   "source": [
    "csv_ways.to_sql('ways', disk_engine, if_exists='replace', index=False)"
   ]
  },
  {
   "cell_type": "code",
   "execution_count": 26,
   "metadata": {
    "collapsed": true
   },
   "outputs": [],
   "source": [
    "csv_ways_nodes.to_sql('ways_nodes', disk_engine, if_exists='replace', index=False)"
   ]
  },
  {
   "cell_type": "code",
   "execution_count": 27,
   "metadata": {
    "collapsed": false,
    "scrolled": false
   },
   "outputs": [],
   "source": [
    "csv_ways_tags.to_sql('ways_tags', disk_engine, if_exists='replace', index=False)"
   ]
  },
  {
   "cell_type": "markdown",
   "metadata": {},
   "source": [
    "## Data Overview"
   ]
  },
  {
   "cell_type": "markdown",
   "metadata": {},
   "source": [
    "### File size"
   ]
  },
  {
   "cell_type": "code",
   "execution_count": 28,
   "metadata": {
    "collapsed": false
   },
   "outputs": [
    {
     "name": "stdout",
     "output_type": "stream",
     "text": [
      "boston_massachusetts.osm: 413 MB\n",
      "nodes.csv: 151 MB\n",
      "nodes_tags.csv: 16 MB\n",
      "ways.csv: 19 MB\n",
      "ways_nodes.csv: 52 MB\n",
      "ways_tags.csv: 21 MB\n",
      "boston_db.db: 232 MB\n"
     ]
    }
   ],
   "source": [
    "print \"boston_massachusetts.osm: \" + str(os.path.getsize(dataset) / 1024 / 1024) + \" MB\"\n",
    "print \"nodes.csv: \" + str(os.path.getsize(\"nodes.csv\") / 1024 / 1024) + \" MB\"\n",
    "print \"nodes_tags.csv: \" + str(os.path.getsize(\"nodes_tags.csv\") / 1024 / 1024) + \" MB\"\n",
    "print \"ways.csv: \" + str(os.path.getsize(\"ways.csv\") / 1024 / 1024) + \" MB\"\n",
    "print \"ways_nodes.csv: \" + str(os.path.getsize(\"ways_nodes.csv\") / 1024 / 1024) + \" MB\"\n",
    "print \"ways_tags.csv: \" + str(os.path.getsize(\"ways_tags.csv\") / 1024 / 1024) + \" MB\"\n",
    "print \"boston_db.db: \" + str(os.path.getsize(\"boston_db.db\") / 1024 / 1024) + \" MB\""
   ]
  },
  {
   "cell_type": "markdown",
   "metadata": {},
   "source": [
    "### Number of unique users"
   ]
  },
  {
   "cell_type": "code",
   "execution_count": 29,
   "metadata": {
    "collapsed": false
   },
   "outputs": [
    {
     "data": {
      "text/html": [
       "<div>\n",
       "<table border=\"1\" class=\"dataframe\">\n",
       "  <thead>\n",
       "    <tr style=\"text-align: right;\">\n",
       "      <th></th>\n",
       "      <th>num_of_unique_users</th>\n",
       "    </tr>\n",
       "  </thead>\n",
       "  <tbody>\n",
       "    <tr>\n",
       "      <th>0</th>\n",
       "      <td>1230</td>\n",
       "    </tr>\n",
       "  </tbody>\n",
       "</table>\n",
       "</div>"
      ],
      "text/plain": [
       "   num_of_unique_users\n",
       "0                 1230"
      ]
     },
     "execution_count": 29,
     "metadata": {},
     "output_type": "execute_result"
    }
   ],
   "source": [
    "result = pd.read_sql_query(\"\"\"\n",
    "SELECT COUNT(DISTINCT users.uid) AS num_of_unique_users\n",
    "FROM (SELECT uid FROM Nodes UNION ALL SELECT uid FROM Ways) AS users;\n",
    "\"\"\", disk_engine)\n",
    "result"
   ]
  },
  {
   "cell_type": "markdown",
   "metadata": {},
   "source": [
    "### Top 10 contributing users"
   ]
  },
  {
   "cell_type": "code",
   "execution_count": 30,
   "metadata": {
    "collapsed": false
   },
   "outputs": [
    {
     "data": {
      "text/html": [
       "<div>\n",
       "<table border=\"1\" class=\"dataframe\">\n",
       "  <thead>\n",
       "    <tr style=\"text-align: right;\">\n",
       "      <th></th>\n",
       "      <th>user</th>\n",
       "      <th>num_of_contributions</th>\n",
       "    </tr>\n",
       "  </thead>\n",
       "  <tbody>\n",
       "    <tr>\n",
       "      <th>0</th>\n",
       "      <td>crschmidt</td>\n",
       "      <td>1203569</td>\n",
       "    </tr>\n",
       "    <tr>\n",
       "      <th>1</th>\n",
       "      <td>jremillard-massgis</td>\n",
       "      <td>430528</td>\n",
       "    </tr>\n",
       "    <tr>\n",
       "      <th>2</th>\n",
       "      <td>OceanVortex</td>\n",
       "      <td>92109</td>\n",
       "    </tr>\n",
       "    <tr>\n",
       "      <th>3</th>\n",
       "      <td>wambag</td>\n",
       "      <td>80338</td>\n",
       "    </tr>\n",
       "    <tr>\n",
       "      <th>4</th>\n",
       "      <td>morganwahl</td>\n",
       "      <td>69940</td>\n",
       "    </tr>\n",
       "    <tr>\n",
       "      <th>5</th>\n",
       "      <td>ryebread</td>\n",
       "      <td>67565</td>\n",
       "    </tr>\n",
       "    <tr>\n",
       "      <th>6</th>\n",
       "      <td>MassGIS Import</td>\n",
       "      <td>63340</td>\n",
       "    </tr>\n",
       "    <tr>\n",
       "      <th>7</th>\n",
       "      <td>ingalls_imports</td>\n",
       "      <td>32469</td>\n",
       "    </tr>\n",
       "    <tr>\n",
       "      <th>8</th>\n",
       "      <td>Ahlzen</td>\n",
       "      <td>27424</td>\n",
       "    </tr>\n",
       "    <tr>\n",
       "      <th>9</th>\n",
       "      <td>mapper999</td>\n",
       "      <td>15085</td>\n",
       "    </tr>\n",
       "  </tbody>\n",
       "</table>\n",
       "</div>"
      ],
      "text/plain": [
       "                 user  num_of_contributions\n",
       "0           crschmidt               1203569\n",
       "1  jremillard-massgis                430528\n",
       "2         OceanVortex                 92109\n",
       "3              wambag                 80338\n",
       "4          morganwahl                 69940\n",
       "5            ryebread                 67565\n",
       "6      MassGIS Import                 63340\n",
       "7     ingalls_imports                 32469\n",
       "8              Ahlzen                 27424\n",
       "9           mapper999                 15085"
      ]
     },
     "execution_count": 30,
     "metadata": {},
     "output_type": "execute_result"
    }
   ],
   "source": [
    "result = pd.read_sql_query(\"\"\"\n",
    "SELECT users.user, COUNT(*) as num_of_contributions\n",
    "FROM (SELECT user FROM Nodes UNION ALL SELECT user FROM Ways) users\n",
    "GROUP BY users.user\n",
    "ORDER BY num_of_contributions DESC\n",
    "LIMIT 10;\n",
    "\"\"\", disk_engine)\n",
    "result"
   ]
  },
  {
   "cell_type": "markdown",
   "metadata": {},
   "source": [
    "### First contribution"
   ]
  },
  {
   "cell_type": "code",
   "execution_count": 31,
   "metadata": {
    "collapsed": false
   },
   "outputs": [
    {
     "data": {
      "text/html": [
       "<div>\n",
       "<table border=\"1\" class=\"dataframe\">\n",
       "  <thead>\n",
       "    <tr style=\"text-align: right;\">\n",
       "      <th></th>\n",
       "      <th>timestamp</th>\n",
       "    </tr>\n",
       "  </thead>\n",
       "  <tbody>\n",
       "    <tr>\n",
       "      <th>0</th>\n",
       "      <td>2007-06-21T09:47:59Z</td>\n",
       "    </tr>\n",
       "  </tbody>\n",
       "</table>\n",
       "</div>"
      ],
      "text/plain": [
       "              timestamp\n",
       "0  2007-06-21T09:47:59Z"
      ]
     },
     "execution_count": 31,
     "metadata": {},
     "output_type": "execute_result"
    }
   ],
   "source": [
    "result = pd.read_sql_query(\"\"\"\n",
    "SELECT timestamp FROM Nodes UNION SELECT timestamp FROM Ways\n",
    "ORDER BY timestamp\n",
    "LIMIT 1;\n",
    "\"\"\", disk_engine)\n",
    "result"
   ]
  },
  {
   "cell_type": "markdown",
   "metadata": {},
   "source": [
    "### Number of Nodes"
   ]
  },
  {
   "cell_type": "code",
   "execution_count": 32,
   "metadata": {
    "collapsed": false
   },
   "outputs": [
    {
     "data": {
      "text/html": [
       "<div>\n",
       "<table border=\"1\" class=\"dataframe\">\n",
       "  <thead>\n",
       "    <tr style=\"text-align: right;\">\n",
       "      <th></th>\n",
       "      <th>number_of_nodes</th>\n",
       "    </tr>\n",
       "  </thead>\n",
       "  <tbody>\n",
       "    <tr>\n",
       "      <th>0</th>\n",
       "      <td>1930240</td>\n",
       "    </tr>\n",
       "  </tbody>\n",
       "</table>\n",
       "</div>"
      ],
      "text/plain": [
       "   number_of_nodes\n",
       "0          1930240"
      ]
     },
     "execution_count": 32,
     "metadata": {},
     "output_type": "execute_result"
    }
   ],
   "source": [
    "result = pd.read_sql_query(\"\"\"\n",
    "SELECT COUNT(*) AS number_of_nodes FROM nodes;\n",
    "\"\"\", disk_engine)\n",
    "result"
   ]
  },
  {
   "cell_type": "markdown",
   "metadata": {},
   "source": [
    "### Number of ways"
   ]
  },
  {
   "cell_type": "code",
   "execution_count": 33,
   "metadata": {
    "collapsed": false
   },
   "outputs": [
    {
     "data": {
      "text/html": [
       "<div>\n",
       "<table border=\"1\" class=\"dataframe\">\n",
       "  <thead>\n",
       "    <tr style=\"text-align: right;\">\n",
       "      <th></th>\n",
       "      <th>number_of_ways</th>\n",
       "    </tr>\n",
       "  </thead>\n",
       "  <tbody>\n",
       "    <tr>\n",
       "      <th>0</th>\n",
       "      <td>308723</td>\n",
       "    </tr>\n",
       "  </tbody>\n",
       "</table>\n",
       "</div>"
      ],
      "text/plain": [
       "   number_of_ways\n",
       "0          308723"
      ]
     },
     "execution_count": 33,
     "metadata": {},
     "output_type": "execute_result"
    }
   ],
   "source": [
    "result = pd.read_sql_query(\"\"\"\n",
    "SELECT COUNT(*) AS number_of_ways FROM ways\n",
    "\"\"\", disk_engine)\n",
    "result"
   ]
  },
  {
   "cell_type": "markdown",
   "metadata": {},
   "source": [
    "### Most popular banks"
   ]
  },
  {
   "cell_type": "code",
   "execution_count": 34,
   "metadata": {
    "collapsed": false
   },
   "outputs": [
    {
     "data": {
      "text/html": [
       "<div>\n",
       "<table border=\"1\" class=\"dataframe\">\n",
       "  <thead>\n",
       "    <tr style=\"text-align: right;\">\n",
       "      <th></th>\n",
       "      <th>bank</th>\n",
       "      <th>num</th>\n",
       "    </tr>\n",
       "  </thead>\n",
       "  <tbody>\n",
       "    <tr>\n",
       "      <th>0</th>\n",
       "      <td>Bank of America</td>\n",
       "      <td>12</td>\n",
       "    </tr>\n",
       "    <tr>\n",
       "      <th>1</th>\n",
       "      <td>Citizens Bank</td>\n",
       "      <td>10</td>\n",
       "    </tr>\n",
       "    <tr>\n",
       "      <th>2</th>\n",
       "      <td>Santander</td>\n",
       "      <td>6</td>\n",
       "    </tr>\n",
       "    <tr>\n",
       "      <th>3</th>\n",
       "      <td>Eastern Bank</td>\n",
       "      <td>5</td>\n",
       "    </tr>\n",
       "    <tr>\n",
       "      <th>4</th>\n",
       "      <td>TD Bank</td>\n",
       "      <td>5</td>\n",
       "    </tr>\n",
       "    <tr>\n",
       "      <th>5</th>\n",
       "      <td>Cambridge Savings Bank</td>\n",
       "      <td>3</td>\n",
       "    </tr>\n",
       "    <tr>\n",
       "      <th>6</th>\n",
       "      <td>Cambridge Trust Company</td>\n",
       "      <td>3</td>\n",
       "    </tr>\n",
       "    <tr>\n",
       "      <th>7</th>\n",
       "      <td>Citibank</td>\n",
       "      <td>3</td>\n",
       "    </tr>\n",
       "    <tr>\n",
       "      <th>8</th>\n",
       "      <td>Brookline Bank</td>\n",
       "      <td>2</td>\n",
       "    </tr>\n",
       "    <tr>\n",
       "      <th>9</th>\n",
       "      <td>East Boston Savings Bank</td>\n",
       "      <td>2</td>\n",
       "    </tr>\n",
       "  </tbody>\n",
       "</table>\n",
       "</div>"
      ],
      "text/plain": [
       "                       bank  num\n",
       "0           Bank of America   12\n",
       "1             Citizens Bank   10\n",
       "2                 Santander    6\n",
       "3              Eastern Bank    5\n",
       "4                   TD Bank    5\n",
       "5    Cambridge Savings Bank    3\n",
       "6   Cambridge Trust Company    3\n",
       "7                  Citibank    3\n",
       "8            Brookline Bank    2\n",
       "9  East Boston Savings Bank    2"
      ]
     },
     "execution_count": 34,
     "metadata": {},
     "output_type": "execute_result"
    }
   ],
   "source": [
    "result = pd.read_sql_query(\"\"\"\n",
    "SELECT nodes_tags.value AS bank, \n",
    "    COUNT(*) as num\n",
    "FROM nodes_tags\n",
    "    JOIN (SELECT DISTINCT id FROM nodes_tags WHERE value='bank') ids\n",
    "    ON nodes_tags.id=ids.id\n",
    "WHERE nodes_tags.key='name'\n",
    "GROUP BY nodes_tags.value\n",
    "ORDER BY num DESC\n",
    "LIMIT 10;\n",
    "\"\"\", disk_engine)\n",
    "result"
   ]
  },
  {
   "cell_type": "markdown",
   "metadata": {},
   "source": [
    "### Most popular cousines"
   ]
  },
  {
   "cell_type": "code",
   "execution_count": 35,
   "metadata": {
    "collapsed": false
   },
   "outputs": [
    {
     "data": {
      "text/html": [
       "<div>\n",
       "<table border=\"1\" class=\"dataframe\">\n",
       "  <thead>\n",
       "    <tr style=\"text-align: right;\">\n",
       "      <th></th>\n",
       "      <th>cousine</th>\n",
       "      <th>num</th>\n",
       "    </tr>\n",
       "  </thead>\n",
       "  <tbody>\n",
       "    <tr>\n",
       "      <th>0</th>\n",
       "      <td>pizza</td>\n",
       "      <td>36</td>\n",
       "    </tr>\n",
       "    <tr>\n",
       "      <th>1</th>\n",
       "      <td>american</td>\n",
       "      <td>35</td>\n",
       "    </tr>\n",
       "    <tr>\n",
       "      <th>2</th>\n",
       "      <td>chinese</td>\n",
       "      <td>29</td>\n",
       "    </tr>\n",
       "    <tr>\n",
       "      <th>3</th>\n",
       "      <td>italian</td>\n",
       "      <td>29</td>\n",
       "    </tr>\n",
       "    <tr>\n",
       "      <th>4</th>\n",
       "      <td>mexican</td>\n",
       "      <td>26</td>\n",
       "    </tr>\n",
       "    <tr>\n",
       "      <th>5</th>\n",
       "      <td>indian</td>\n",
       "      <td>21</td>\n",
       "    </tr>\n",
       "    <tr>\n",
       "      <th>6</th>\n",
       "      <td>thai</td>\n",
       "      <td>19</td>\n",
       "    </tr>\n",
       "    <tr>\n",
       "      <th>7</th>\n",
       "      <td>asian</td>\n",
       "      <td>13</td>\n",
       "    </tr>\n",
       "    <tr>\n",
       "      <th>8</th>\n",
       "      <td>regional</td>\n",
       "      <td>12</td>\n",
       "    </tr>\n",
       "    <tr>\n",
       "      <th>9</th>\n",
       "      <td>japanese</td>\n",
       "      <td>11</td>\n",
       "    </tr>\n",
       "  </tbody>\n",
       "</table>\n",
       "</div>"
      ],
      "text/plain": [
       "    cousine  num\n",
       "0     pizza   36\n",
       "1  american   35\n",
       "2   chinese   29\n",
       "3   italian   29\n",
       "4   mexican   26\n",
       "5    indian   21\n",
       "6      thai   19\n",
       "7     asian   13\n",
       "8  regional   12\n",
       "9  japanese   11"
      ]
     },
     "execution_count": 35,
     "metadata": {},
     "output_type": "execute_result"
    }
   ],
   "source": [
    "result = pd.read_sql_query(\"\"\"\n",
    "SELECT nodes_tags.value AS cousine, \n",
    "    COUNT(*) as num\n",
    "FROM nodes_tags\n",
    "    JOIN (SELECT DISTINCT id FROM nodes_tags WHERE value='restaurant') ids\n",
    "    ON nodes_tags.id=ids.id\n",
    "WHERE nodes_tags.key='cuisine'\n",
    "GROUP BY nodes_tags.value\n",
    "ORDER BY num DESC\n",
    "LIMIT 10;\n",
    "\"\"\", disk_engine)\n",
    "result"
   ]
  },
  {
   "cell_type": "markdown",
   "metadata": {},
   "source": [
    "### Most popular amenities"
   ]
  },
  {
   "cell_type": "code",
   "execution_count": 36,
   "metadata": {
    "collapsed": false
   },
   "outputs": [
    {
     "data": {
      "text/html": [
       "<div>\n",
       "<table border=\"1\" class=\"dataframe\">\n",
       "  <thead>\n",
       "    <tr style=\"text-align: right;\">\n",
       "      <th></th>\n",
       "      <th>amenity</th>\n",
       "      <th>num</th>\n",
       "    </tr>\n",
       "  </thead>\n",
       "  <tbody>\n",
       "    <tr>\n",
       "      <th>0</th>\n",
       "      <td>bench</td>\n",
       "      <td>1060</td>\n",
       "    </tr>\n",
       "    <tr>\n",
       "      <th>1</th>\n",
       "      <td>restaurant</td>\n",
       "      <td>592</td>\n",
       "    </tr>\n",
       "    <tr>\n",
       "      <th>2</th>\n",
       "      <td>school</td>\n",
       "      <td>513</td>\n",
       "    </tr>\n",
       "    <tr>\n",
       "      <th>3</th>\n",
       "      <td>place_of_worship</td>\n",
       "      <td>288</td>\n",
       "    </tr>\n",
       "    <tr>\n",
       "      <th>4</th>\n",
       "      <td>library</td>\n",
       "      <td>282</td>\n",
       "    </tr>\n",
       "    <tr>\n",
       "      <th>5</th>\n",
       "      <td>bicycle_parking</td>\n",
       "      <td>270</td>\n",
       "    </tr>\n",
       "    <tr>\n",
       "      <th>6</th>\n",
       "      <td>cafe</td>\n",
       "      <td>242</td>\n",
       "    </tr>\n",
       "    <tr>\n",
       "      <th>7</th>\n",
       "      <td>fast_food</td>\n",
       "      <td>178</td>\n",
       "    </tr>\n",
       "    <tr>\n",
       "      <th>8</th>\n",
       "      <td>bicycle_rental</td>\n",
       "      <td>140</td>\n",
       "    </tr>\n",
       "    <tr>\n",
       "      <th>9</th>\n",
       "      <td>post_box</td>\n",
       "      <td>114</td>\n",
       "    </tr>\n",
       "  </tbody>\n",
       "</table>\n",
       "</div>"
      ],
      "text/plain": [
       "            amenity   num\n",
       "0             bench  1060\n",
       "1        restaurant   592\n",
       "2            school   513\n",
       "3  place_of_worship   288\n",
       "4           library   282\n",
       "5   bicycle_parking   270\n",
       "6              cafe   242\n",
       "7         fast_food   178\n",
       "8    bicycle_rental   140\n",
       "9          post_box   114"
      ]
     },
     "execution_count": 36,
     "metadata": {},
     "output_type": "execute_result"
    }
   ],
   "source": [
    "result = pd.read_sql_query(\"\"\"\n",
    "SELECT nodes_tags.value AS amenity, \n",
    "    COUNT(*) as num\n",
    "FROM nodes_tags\n",
    "    JOIN (SELECT DISTINCT id FROM nodes_tags) ids\n",
    "    ON nodes_tags.id=ids.id\n",
    "WHERE nodes_tags.key='amenity'\n",
    "GROUP BY nodes_tags.value\n",
    "ORDER BY num DESC\n",
    "LIMIT 10;\n",
    "\"\"\", disk_engine)\n",
    "result"
   ]
  },
  {
   "cell_type": "markdown",
   "metadata": {},
   "source": [
    "### Most popular religions"
   ]
  },
  {
   "cell_type": "code",
   "execution_count": 37,
   "metadata": {
    "collapsed": false
   },
   "outputs": [
    {
     "data": {
      "text/html": [
       "<div>\n",
       "<table border=\"1\" class=\"dataframe\">\n",
       "  <thead>\n",
       "    <tr style=\"text-align: right;\">\n",
       "      <th></th>\n",
       "      <th>religion</th>\n",
       "      <th>num</th>\n",
       "    </tr>\n",
       "  </thead>\n",
       "  <tbody>\n",
       "    <tr>\n",
       "      <th>0</th>\n",
       "      <td>christian</td>\n",
       "      <td>258</td>\n",
       "    </tr>\n",
       "    <tr>\n",
       "      <th>1</th>\n",
       "      <td>jewish</td>\n",
       "      <td>10</td>\n",
       "    </tr>\n",
       "    <tr>\n",
       "      <th>2</th>\n",
       "      <td>unitarian</td>\n",
       "      <td>3</td>\n",
       "    </tr>\n",
       "    <tr>\n",
       "      <th>3</th>\n",
       "      <td>buddhist</td>\n",
       "      <td>1</td>\n",
       "    </tr>\n",
       "    <tr>\n",
       "      <th>4</th>\n",
       "      <td>muslim</td>\n",
       "      <td>1</td>\n",
       "    </tr>\n",
       "    <tr>\n",
       "      <th>5</th>\n",
       "      <td>unitarian_universalist</td>\n",
       "      <td>1</td>\n",
       "    </tr>\n",
       "  </tbody>\n",
       "</table>\n",
       "</div>"
      ],
      "text/plain": [
       "                 religion  num\n",
       "0               christian  258\n",
       "1                  jewish   10\n",
       "2               unitarian    3\n",
       "3                buddhist    1\n",
       "4                  muslim    1\n",
       "5  unitarian_universalist    1"
      ]
     },
     "execution_count": 37,
     "metadata": {},
     "output_type": "execute_result"
    }
   ],
   "source": [
    "result = pd.read_sql_query(\"\"\"\n",
    "SELECT nodes_tags.value AS religion, \n",
    "    COUNT(*) as num\n",
    "FROM nodes_tags\n",
    "    JOIN (SELECT DISTINCT id FROM nodes_tags WHERE value='place_of_worship') ids\n",
    "    ON nodes_tags.id=ids.id\n",
    "WHERE nodes_tags.key='religion'\n",
    "GROUP BY nodes_tags.value\n",
    "ORDER BY num DESC\n",
    "LIMIT 10;\n",
    "\"\"\", disk_engine)\n",
    "result"
   ]
  },
  {
   "cell_type": "markdown",
   "metadata": {},
   "source": [
    "### Most popular fast-food chains"
   ]
  },
  {
   "cell_type": "code",
   "execution_count": 38,
   "metadata": {
    "collapsed": false
   },
   "outputs": [
    {
     "data": {
      "text/html": [
       "<div>\n",
       "<table border=\"1\" class=\"dataframe\">\n",
       "  <thead>\n",
       "    <tr style=\"text-align: right;\">\n",
       "      <th></th>\n",
       "      <th>chain</th>\n",
       "      <th>num</th>\n",
       "    </tr>\n",
       "  </thead>\n",
       "  <tbody>\n",
       "    <tr>\n",
       "      <th>0</th>\n",
       "      <td>Dunkin' Donuts</td>\n",
       "      <td>12</td>\n",
       "    </tr>\n",
       "    <tr>\n",
       "      <th>1</th>\n",
       "      <td>Subway</td>\n",
       "      <td>10</td>\n",
       "    </tr>\n",
       "    <tr>\n",
       "      <th>2</th>\n",
       "      <td>Burger King</td>\n",
       "      <td>7</td>\n",
       "    </tr>\n",
       "    <tr>\n",
       "      <th>3</th>\n",
       "      <td>McDonald's</td>\n",
       "      <td>7</td>\n",
       "    </tr>\n",
       "    <tr>\n",
       "      <th>4</th>\n",
       "      <td>Wendy's</td>\n",
       "      <td>4</td>\n",
       "    </tr>\n",
       "    <tr>\n",
       "      <th>5</th>\n",
       "      <td>Anna's Taqueria</td>\n",
       "      <td>3</td>\n",
       "    </tr>\n",
       "    <tr>\n",
       "      <th>6</th>\n",
       "      <td>Chipotle</td>\n",
       "      <td>3</td>\n",
       "    </tr>\n",
       "    <tr>\n",
       "      <th>7</th>\n",
       "      <td>Sbarro</td>\n",
       "      <td>3</td>\n",
       "    </tr>\n",
       "    <tr>\n",
       "      <th>8</th>\n",
       "      <td>Boloco</td>\n",
       "      <td>2</td>\n",
       "    </tr>\n",
       "    <tr>\n",
       "      <th>9</th>\n",
       "      <td>Clover Food Lab</td>\n",
       "      <td>2</td>\n",
       "    </tr>\n",
       "  </tbody>\n",
       "</table>\n",
       "</div>"
      ],
      "text/plain": [
       "             chain  num\n",
       "0   Dunkin' Donuts   12\n",
       "1           Subway   10\n",
       "2      Burger King    7\n",
       "3       McDonald's    7\n",
       "4          Wendy's    4\n",
       "5  Anna's Taqueria    3\n",
       "6         Chipotle    3\n",
       "7           Sbarro    3\n",
       "8           Boloco    2\n",
       "9  Clover Food Lab    2"
      ]
     },
     "execution_count": 38,
     "metadata": {},
     "output_type": "execute_result"
    }
   ],
   "source": [
    "result = pd.read_sql_query(\"\"\"\n",
    "SELECT nodes_tags.value AS chain, \n",
    "    COUNT(*) as num\n",
    "FROM nodes_tags\n",
    "    JOIN (SELECT DISTINCT id FROM nodes_tags WHERE value='fast_food') ids\n",
    "    ON nodes_tags.id=ids.id\n",
    "WHERE nodes_tags.key='name'\n",
    "GROUP BY nodes_tags.value\n",
    "ORDER BY num DESC\n",
    "LIMIT 10;\n",
    "\"\"\", disk_engine)\n",
    "result"
   ]
  },
  {
   "cell_type": "markdown",
   "metadata": {},
   "source": [
    "### Conclusion          "
   ]
  },
  {
   "cell_type": "markdown",
   "metadata": {},
   "source": [
    "The Boston OpenStreetMap dataset quite messy. The data contains some mistakes or different references for the same feature (like abbreviation or slightly different names). We had to clean the dataset programmatically for the street names ('Abby Rd' => 'Abby Road', 'Adams St' => 'Adams Street') and phone numbers ('(617) 464-2485' => '617-464-2485', '+1 617 2770 324' => '617-277-0324'). Although is very useful, I learned a few new things about the town I wanted to travel to. \n",
    "With this project I learned a lot of new things, took a deep insight into the OpenStreetMaps, which I use quite a long time through MAPS.ME app. Despite the data isn't 100% clean, it's amazing that so many people contribute to the project for free."
   ]
  },
  {
   "cell_type": "markdown",
   "metadata": {},
   "source": [
    "We can improve the quality of the OpenStreetMap Data by adding validators at the data insertion stage. It could be implimented in HTML/JavaScript. A good example -- an input tag with a pattern attribute:"
   ]
  },
  {
   "cell_type": "markdown",
   "metadata": {},
   "source": [
    "<input type=\"text\" id=\"phonenumber\" name=\"phone\" placeholder=\"555-55-5555\" pattern=\"\\d{3}-?\\d{2}-?\\d{4}\">"
   ]
  },
  {
   "cell_type": "markdown",
   "metadata": {},
   "source": [
    "Pros and Cons of this method:\n",
    "* (+) Only clean data is being collected, no needs to audit the whole database that I suppose is very large\n",
    "* (+) Doesn't require extra computing, the validation takes place on the user side. \n",
    "\n",
    "* (-) Requires some extra knowledge of HTML/JavaScript\n",
    "* (-) The format of almost every field depends on the region, which makes it harder to implement\n",
    "* (-) It doesn't protect the data for example from invalid phone numbers, unexisting places, that contributors can insert, even in a correct format"
   ]
  },
  {
   "cell_type": "markdown",
   "metadata": {},
   "source": [
    "## References"
   ]
  },
  {
   "cell_type": "markdown",
   "metadata": {},
   "source": [
    "* http://wiki.openstreetmap.org/wiki/Overpass_API\n",
    "* http://wiki.openstreetmap.org/wiki/OSM_XML\n",
    "* https://gist.github.com/carlward/54ec1c91b62a5f911c42#file-sample_project-md\n",
    "* https://plot.ly/python/big-data-analytics-with-pandas-and-sqlite/\n",
    "* http://stackoverflow.com/questions/21650617/html-form-field-how-to-require-an-input-format"
   ]
  },
  {
   "cell_type": "code",
   "execution_count": null,
   "metadata": {
    "collapsed": true
   },
   "outputs": [],
   "source": []
  }
 ],
 "metadata": {
  "anaconda-cloud": {},
  "kernelspec": {
   "display_name": "Python [Root]",
   "language": "python",
   "name": "Python [Root]"
  },
  "language_info": {
   "codemirror_mode": {
    "name": "ipython",
    "version": 2
   },
   "file_extension": ".py",
   "mimetype": "text/x-python",
   "name": "python",
   "nbconvert_exporter": "python",
   "pygments_lexer": "ipython2",
   "version": "2.7.12"
  }
 },
 "nbformat": 4,
 "nbformat_minor": 0
}
